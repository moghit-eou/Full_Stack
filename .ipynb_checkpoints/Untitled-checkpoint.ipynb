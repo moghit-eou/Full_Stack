{
 "cells": [
  {
   "cell_type": "code",
   "execution_count": 1,
   "id": "41cabbf5-0fe8-4fd8-a912-db32aa914ea9",
   "metadata": {},
   "outputs": [],
   "source": [
    "from pymongo import MongoClient\n",
    "\n",
    "client = MongoClient(\"mongodb://localhost:27017/\")\n",
    "db = client[\"pfe_db\"]  # Database name\n",
    "collection = db[\"students\"]  # Collection name equivalent to a table in SQL\n",
    "\n",
    "document = {\n",
    "    \"name\": \"Alice\",\n",
    "    \"age\": 30,\n",
    "    \"email\": \"alice@example.com\"\n",
    "}\n",
    "\n",
    "for doc in db.students.find():\n",
    "    print(doc)"
   ]
  },
  {
   "cell_type": "code",
   "execution_count": 37,
   "id": "c978bceb-1284-4832-add3-7188b730cd8c",
   "metadata": {},
   "outputs": [
    {
     "data": {
      "text/plain": [
       "InsertOneResult(ObjectId('683b824da0a29fd4364a0996'), acknowledged=True)"
      ]
     },
     "execution_count": 37,
     "metadata": {},
     "output_type": "execute_result"
    }
   ],
   "source": [
    "collection.insert_one(document)\n"
   ]
  },
  {
   "cell_type": "code",
   "execution_count": 3,
   "id": "1639b4d6-d4a2-4a0e-9256-ec7017aa6234",
   "metadata": {},
   "outputs": [
    {
     "name": "stdout",
     "output_type": "stream",
     "text": [
      "hellomoghit\n"
     ]
    }
   ],
   "source": [
    "print ( message )"
   ]
  },
  {
   "cell_type": "code",
   "execution_count": 2,
   "id": "9c15a9fe-80b1-46f9-ab76-c01720b69dbb",
   "metadata": {},
   "outputs": [],
   "source": [
    "import json\n",
    "\n",
    "raw_text = '''{\n",
    "  \"contact_information\": {\n",
    "    \"name\": \"First Last\",\n",
    "    \"phone\": \"+1-234-456-789\",\n",
    "    \"email\": \"professionalemail@resumeworded.com\",\n",
    "    \"linkedin\": \"linkedin.com/in/username\",\n",
    "    \"location\": \"Bay Area, California\"\n",
    "  },\n",
    "  \"professional_summary\": \"Software engineering lead with ten years' experience implementing backend systems in C++; led re-architecture of key platform that serves 100,000 requests per month, increasing speed by 20 percent; awarded the prestigious 'Most Impactful' award, given to the top 5 percent of engineers based on total impact to firm; promoted two times in 18 months, six months ahead of schedule.\",\n",
    "  \"work_experience\": \"Job Titles: Software Engineering Manager, Data Science Manager, Business Analyst, Business Development Consultant. Responsibilities and Achievements: Launched Miami office with lead Director and recruited a new team of 10 employees; grew office revenue by 200% in first nine months (representing 20% of company revenue). Led the first major effort to A/B test the company's e-commerce sales page and optimize it for customer acquisition; resulted in a 7.5% increase in conversions. Built Tableau dashboard using data from Amplitude and Segment to visualize core business KPIs (e.g. Monthly Recurring Revenue), saving 10 hours per week of manual reporting work. Reduced signup drop-offs from 65% to 15% and increased user engagement by 40%, through a combination of hypothesis testing, segmentation analysis and machine learning algorithms. First hire on the analytics team of RW Ventures funded startup ($10mm Series A). Developed product strategies for lead Director and trained the team as it grew to 25 employees. Led redesign of mobile app and website. Spearheaded a major pricing restructure by redirecting focus on consumer willingness to pay instead of product cost; implemented a three-tiered pricing model which increased average sale 35% and margin 12%. Designed training and peer-mentoring programs for the incoming class of 25 analysts in 2017; reduced onboarding time for new hires by 50%. Liaised with C-level executives of My Exciting Company, a RW Ventures-backed ecommerce marketplace website with 100k members which helps designers sell their artwork and designs to businesses. Strengthened relationships with 6 strategic partners (including Expedia, Skyscanner and Airbnb) through follow-up meetings with C-suite executives. Developed and executed customer referral program, leading to 50% increase in referral business and $2MM of incremental revenue.\",\n",
    "  \"education\": \"Degree: Bachelor of Engineering — Computer Science.\",\n",
    "  \"skills\": \"Data Visualization/Engineering: Tableau (Advanced), Looker (Experienced), Segment, Amplitude. Techniques: Hypothesis Testing, Recommendation Engines, Customer Segmentation Analysis (Advanced). Tools and Frameworks: ElasticSearch, Python (Keras, Scikit-learn), Hadoop, Python, Databases (MySQL).\",\n",
    "  \"others\":\"\"\n",
    "}'''\n",
    "\n",
    "# Decode the escaped characters\n",
    "raw_text = raw_text.encode().decode('unicode_escape')\n",
    "\n",
    "# Load as JSON\n",
    "resume = json.loads(raw_text)\n",
    "\n"
   ]
  },
  {
   "cell_type": "code",
   "execution_count": 3,
   "id": "1ed032cb-8f01-4330-be80-e066e90376af",
   "metadata": {},
   "outputs": [
    {
     "data": {
      "text/plain": [
       "{'contact_information': {'name': 'First Last',\n",
       "  'phone': '+1-234-456-789',\n",
       "  'email': 'professionalemail@resumeworded.com',\n",
       "  'linkedin': 'linkedin.com/in/username',\n",
       "  'location': 'Bay Area, California'},\n",
       " 'professional_summary': \"Software engineering lead with ten years' experience implementing backend systems in C++; led re-architecture of key platform that serves 100,000 requests per month, increasing speed by 20 percent; awarded the prestigious 'Most Impactful' award, given to the top 5 percent of engineers based on total impact to firm; promoted two times in 18 months, six months ahead of schedule.\",\n",
       " 'work_experience': \"Job Titles: Software Engineering Manager, Data Science Manager, Business Analyst, Business Development Consultant. Responsibilities and Achievements: Launched Miami office with lead Director and recruited a new team of 10 employees; grew office revenue by 200% in first nine months (representing 20% of company revenue). Led the first major effort to A/B test the company's e-commerce sales page and optimize it for customer acquisition; resulted in a 7.5% increase in conversions. Built Tableau dashboard using data from Amplitude and Segment to visualize core business KPIs (e.g. Monthly Recurring Revenue), saving 10 hours per week of manual reporting work. Reduced signup drop-offs from 65% to 15% and increased user engagement by 40%, through a combination of hypothesis testing, segmentation analysis and machine learning algorithms. First hire on the analytics team of RW Ventures funded startup ($10mm Series A). Developed product strategies for lead Director and trained the team as it grew to 25 employees. Led redesign of mobile app and website. Spearheaded a major pricing restructure by redirecting focus on consumer willingness to pay instead of product cost; implemented a three-tiered pricing model which increased average sale 35% and margin 12%. Designed training and peer-mentoring programs for the incoming class of 25 analysts in 2017; reduced onboarding time for new hires by 50%. Liaised with C-level executives of My Exciting Company, a RW Ventures-backed ecommerce marketplace website with 100k members which helps designers sell their artwork and designs to businesses. Strengthened relationships with 6 strategic partners (including Expedia, Skyscanner and Airbnb) through follow-up meetings with C-suite executives. Developed and executed customer referral program, leading to 50% increase in referral business and $2MM of incremental revenue.\",\n",
       " 'education': 'Degree: Bachelor of Engineering â\\x80\\x94 Computer Science.',\n",
       " 'skills': 'Data Visualization/Engineering: Tableau (Advanced), Looker (Experienced), Segment, Amplitude. Techniques: Hypothesis Testing, Recommendation Engines, Customer Segmentation Analysis (Advanced). Tools and Frameworks: ElasticSearch, Python (Keras, Scikit-learn), Hadoop, Python, Databases (MySQL).',\n",
       " 'others': ''}"
      ]
     },
     "execution_count": 3,
     "metadata": {},
     "output_type": "execute_result"
    }
   ],
   "source": [
    "resume"
   ]
  },
  {
   "cell_type": "code",
   "execution_count": 26,
   "id": "6ba95b5f-f483-4094-9d58-3f16f38f978e",
   "metadata": {},
   "outputs": [],
   "source": [
    "resume = {\n",
    "  \"professional_summary\": \"Experienced data scientist with a strong background in machine learning and NLP.\",\n",
    "  \"work_experience\": \"Worked as a data analyst at XYZ company for 3 years.\",\n",
    "  \"education\": \"Bachelor's degree in Computer Science from University ABC.\",\n",
    "  \"skills\": \"Python, Machine Learning, Data Analysis, NLP\",\n",
    "  \"others\": \"Certified AWS Solutions Architect; volunteer at AI charity.\"\n",
    "}\n"
   ]
  },
  {
   "cell_type": "code",
   "execution_count": 4,
   "id": "9b7758a9-56ba-45b8-8c26-b71b688032e3",
   "metadata": {},
   "outputs": [
    {
     "name": "stdout",
     "output_type": "stream",
     "text": [
      "{'professional_summary': 'MachineLearning Engineer AI candidate designing building deploying scalable machinelearning models software engineering data scientists engineers product managers innovative solutions users role continual learning problem-solving environment', 'work_experience': 'MachineLearning Engineer DataScientist AI Researcher DataEngineer development production ML systems frameworks TensorFlow PyTorch MXNet Architected data pipelines realtime batch Apache Kafka Spark Airflow feature engineering workflows model interpretability SHAP LIME designed optimized deep learning NLP computer vision recommendation systems automated lifecycle MLflow Kubeflow scalable serving TensorFlowServing TorchServe NVIDIA Triton Inference Server DevOps cloud Kubernetes clusters Helm charts Prometheus monitoring migration monolithic microservices architectures deployment agility data quality validation frameworks data drift model degradation mentoring teams best practices model development deployment', 'education': 'Bachelor Master PhD Computer Science MachineLearning Statistics Mathematics quantitative field Coursework Advanced MachineLearning Deep Learning Statistical Theory Optimization Algorithms Computer Vision Natural Language Processing Distributed Computing Big Data Analytics', 'skills': 'Programming Python R Java Scala Libraries Frameworks TensorFlow PyTorch Keras scikit-learn XGBoost LightGBM HuggingFace Transformers DataEngineering Apache Spark Hadoop Airflow Kafka SQL NoSQL MongoDB Cassandra Cloud Platforms AWS SageMaker EC2 S3 Google Cloud AI Platform BigQuery Microsoft Azure MachineLearning Studio Containerization Orchestration Docker Kubernetes Helm OpenShift Monitoring CI/CD Prometheus Grafana Jenkins GitLab MLflow Kubeflow Pipelines Explainability SHAP LIME ELI5 Jupyter VSCode Git REST APIs Linux Unix', 'others': 'Certifications AWS Certified MachineLearning Specialty Google Professional Microsoft Certified Azure AI Engineer TensorFlow Developer Certificate Contributions open-source TensorFlow PyTorch scikit-learn Publications NeurIPS ICML CVPR ACL Community AI conferences meetups workshops hackathons Expertise deploying edge devices NVIDIA Jetson RaspberryPi federated learning frameworks ethical fairness'}\n"
     ]
    }
   ],
   "source": [
    "import json\n",
    "\n",
    "# Open and load the JSON file\n",
    "with open('job_description.json', 'r', encoding='utf-8') as f:\n",
    "    job_description = json.load(f)\n",
    "\n",
    "# Now `data` is a Python dictionary (or list) representing your JSON content\n",
    "print(job_description)\n"
   ]
  },
  {
   "cell_type": "code",
   "execution_count": null,
   "id": "0a9fed4c-92f9-49a7-a7f5-47f998291bea",
   "metadata": {},
   "outputs": [],
   "source": []
  },
  {
   "cell_type": "code",
   "execution_count": 5,
   "id": "b790a2d3-ae0a-4b7d-93c6-35ccc54f689b",
   "metadata": {},
   "outputs": [
    {
     "name": "stdout",
     "output_type": "stream",
     "text": [
      "6.087651795618072\n"
     ]
    }
   ],
   "source": [
    "import numpy as np\n",
    "import requests\n",
    "\n",
    "def get_vector(text):\n",
    "    response = requests.get(f'https://moghit-word2vec-embeddings.hf.space/vectorization?text={text}')\n",
    "    data = response.json()\n",
    "\n",
    "    if 'vector' not in data:\n",
    "        return 0  \n",
    "\n",
    "    return data['vector']\n",
    "\n",
    "\n",
    "def cosine_similarity(first_text, second_text):\n",
    "    vec1 = get_vector(first_text)\n",
    "    vec2 = get_vector(second_text)\n",
    "\n",
    "    # dot(vec1, vec2) / (||vec1|| * ||vec2||)\n",
    "    dot_product = np.dot(vec1, vec2)\n",
    "    norm_vec1 = np.linalg.norm(vec1)\n",
    "    norm_vec2 = np.linalg.norm(vec2)\n",
    "\n",
    "    if norm_vec1 == 0 or norm_vec2 == 0:\n",
    "        return 0  # avoid division by zero\n",
    "\n",
    "    return dot_product / (norm_vec1 * norm_vec2)\n",
    "\n",
    "\n",
    "\n",
    "x = cosine_similarity(\"html\", job_description[\"skills\"])\n",
    "docker = get_vector(\"docker\")\n",
    "print ( np.dot(docker , docker ) )\n"
   ]
  },
  {
   "cell_type": "code",
   "execution_count": null,
   "id": "b74a7a64-6567-4494-8b91-59f87e88ba02",
   "metadata": {},
   "outputs": [],
   "source": []
  },
  {
   "cell_type": "code",
   "execution_count": 35,
   "id": "fa6c5a92-9b83-4367-8cff-b1afce768441",
   "metadata": {},
   "outputs": [
    {
     "data": {
      "text/plain": [
       "np.float64(0.6981879572396279)"
      ]
     },
     "execution_count": 35,
     "metadata": {},
     "output_type": "execute_result"
    }
   ],
   "source": [
    "get_score(resume)"
   ]
  },
  {
   "cell_type": "code",
   "execution_count": 37,
   "id": "4911d978-91b5-4b95-ae1d-f01a9c4e819b",
   "metadata": {},
   "outputs": [
    {
     "name": "stdout",
     "output_type": "stream",
     "text": [
      "<Response [500]>\n"
     ]
    }
   ],
   "source": [
    "response = requests.get(f\"http://127.0.0.1:5000/add_resume?argument={str(resume)}\")\n",
    "print ( response ) "
   ]
  },
  {
   "cell_type": "code",
   "execution_count": 10,
   "id": "78945f7f-a7ca-4be8-9d74-0eab3db1ae5c",
   "metadata": {},
   "outputs": [],
   "source": [
    "def resume_text_to_json(resume):\n",
    "    clean_text = resume.encode().decode('unicode_escape')\n",
    "    data = json.loads(clean_text)\n",
    "    return data \n"
   ]
  },
  {
   "cell_type": "code",
   "execution_count": 12,
   "id": "67ab1cbe-2cb5-43a2-ba31-040775f9b3c6",
   "metadata": {},
   "outputs": [
    {
     "data": {
      "text/plain": [
       "'{\\n  \"contact_information\": {\\n    \"name\": \"First Last\",\\n    \"phone\": \"+1-234-456-789\",\\n    \"email\": \"professionalemail@resumeworded.com\",\\n    \"linkedin\": \"https://linkedin.com/in/username\",\\n    \"location\": \"Bay Area, California\"\\n  },\\n  \"professional_summary\": \"Software engineering lead with ten years\\' experience implementing backend systems in C++; led re-architecture of key platform that serves 100,000 requests per month, increasing speed by 20 percent; awarded the prestigious \\'Most Impactful\\' award, given to the top 5 percent of engineers based on total impact to firm; promoted two times in 18 months, six months ahead of schedule.\",\\n  \"work_experience\": \"Job Titles: Software Engineering Manager and Data Science Manager, Business Analyst, Business Development Consultant. Responsibilities and Achievements: Launched Miami office with lead Director and recruited a new team of 10 employees; grew office revenue by 200% in first nine months (representing 20% of company revenue). Co-managed analytics and engineering teams. Led the first major effort to A/B test the company\\'s e-commerce sales page and optimize it for customer acquisition; resulted in a 7.5% increase in conversions. Built Tableau dashboard using data from Amplitude and Segment to visualize core business KPIs (e.g. Monthly Recurring Revenue), saving 10 hours per week of manual reporting work. Reduced signup drop-offs from 65% to 15% and increased user engagement by 40%, through a combination of hypothesis testing, segmentation analysis and machine learning algorithms. Spearheaded a major pricing restructure by redirecting focus on consumer willingness to pay instead of product cost; implemented a three-tiered pricing model which increased average sale 35% and margin 12%. Designed training and peer-mentoring programs for the incoming class of 25 analysts in 2017; reduced onboarding time for new hires by 50%. Strengthened relationships with 6 strategic partners (including Expedia, Skyscanner and Airbnb) through follow-up meetings with C-suite executives. Developed and executed customer referral program, leading to 50% increase in referral business and $2MM of incremental revenue.\",\\n  \"education\": \"Degree: Bachelor of Engineering — Computer Science. Relevant Coursework: Not specified.\",\\n  \"skills\": \"Tableau (Advanced), Looker (Experienced), Segment, Amplitude, ElasticSearch, Python (Keras, Scikit-learn), Hadoop, Databases (MySQL), Hypothesis Testing, Recommendation Engines, Customer Segmentation Analysis (Advanced)\",\\n  \"others\": \"Awarded the prestigious \\'Most Impactful\\' award, given to the top 5 percent of engineers based on total impact to firm. Promoted two times in 18 months, six months ahead of schedule.\"\\n}'"
      ]
     },
     "execution_count": 12,
     "metadata": {},
     "output_type": "execute_result"
    }
   ],
   "source": [
    "resume"
   ]
  },
  {
   "cell_type": "code",
   "execution_count": 9,
   "id": "622fca3e-b1e5-4716-9c4b-c6af3ed2a078",
   "metadata": {},
   "outputs": [
    {
     "name": "stdout",
     "output_type": "stream",
     "text": [
      "<Response [500]>\n",
      "<!doctype html>\n",
      "<html lang=en>\n",
      "  <head>\n",
      "    <title>json.decoder.JSONDecodeError: Invalid control character at: line 1 column 3 (char 2)\n",
      " // Werkzeug Debugger</title>\n",
      "    <link rel=\"stylesheet\" href=\"?__debugger__=yes&amp;cmd=resource&amp;f=style.css\">\n",
      "    <link rel=\"shortcut icon\"\n",
      "        href=\"?__debugger__=yes&amp;cmd=resource&amp;f=console.png\">\n",
      "    <script src=\"?__debugger__=yes&amp;cmd=resource&amp;f=debugger.js\"></script>\n",
      "    <script>\n",
      "      var CONSOLE_MODE = false,\n",
      "          EVALEX = true,\n",
      "          EVALEX_TRUSTED = false,\n",
      "          SECRET = \"T08UDKRRqtXB1BztcPrM\";\n",
      "    </script>\n",
      "  </head>\n",
      "  <body style=\"background-color: #fff\">\n",
      "    <div class=\"debugger\">\n",
      "<h1>JSONDecodeError</h1>\n",
      "<div class=\"detail\">\n",
      "  <p class=\"errormsg\">json.decoder.JSONDecodeError: Invalid control character at: line 1 column 3 (char 2)\n",
      "</p>\n",
      "</div>\n",
      "<h2 class=\"traceback\">Traceback <em>(most recent call last)</em></h2>\n",
      "<div class=\"traceback\">\n",
      "  <h3></h3>\n",
      "  <ul><li><div class=\"frame\" id=\"frame-2414428751568\">\n",
      "  <h4>File <cite class=\"filename\">\"C:\\Users\\lenovo\\Desktop\\fullstack\\venv\\lib\\site-packages\\flask\\app.py\"</cite>,\n",
      "      line <em class=\"line\">1536</em>,\n",
      "      in <code class=\"function\">__call__</code></h4>\n",
      "  <div class=\"source library\"><pre class=\"line before\"><span class=\"ws\">    </span>) -&gt; cabc.Iterable[bytes]:</pre>\n",
      "<pre class=\"line before\"><span class=\"ws\">        </span>&#34;&#34;&#34;The WSGI server calls the Flask application object as the</pre>\n",
      "<pre class=\"line before\"><span class=\"ws\">        </span>WSGI application. This calls :meth:`wsgi_app`, which can be</pre>\n",
      "<pre class=\"line before\"><span class=\"ws\">        </span>wrapped to apply middleware.</pre>\n",
      "<pre class=\"line before\"><span class=\"ws\">        </span>&#34;&#34;&#34;</pre>\n",
      "<pre class=\"line current\"><span class=\"ws\">        </span>return self.wsgi_app(environ, start_response)</pre></div>\n",
      "</div>\n",
      "\n",
      "<li><div class=\"frame\" id=\"frame-2414429054208\">\n",
      "  <h4>File <cite class=\"filename\">\"C:\\Users\\lenovo\\Desktop\\fullstack\\venv\\lib\\site-packages\\flask\\app.py\"</cite>,\n",
      "      line <em class=\"line\">1514</em>,\n",
      "      in <code class=\"function\">wsgi_app</code></h4>\n",
      "  <div class=\"source library\"><pre class=\"line before\"><span class=\"ws\">            </span>try:</pre>\n",
      "<pre class=\"line before\"><span class=\"ws\">                </span>ctx.push()</pre>\n",
      "<pre class=\"line before\"><span class=\"ws\">                </span>response = self.full_dispatch_request()</pre>\n",
      "<pre class=\"line before\"><span class=\"ws\">            </span>except Exception as e:</pre>\n",
      "<pre class=\"line before\"><span class=\"ws\">                </span>error = e</pre>\n",
      "<pre class=\"line current\"><span class=\"ws\">                </span>response = self.handle_exception(e)</pre>\n",
      "<pre class=\"line after\"><span class=\"ws\">            </span>except:  # noqa: B001</pre>\n",
      "<pre class=\"line after\"><span class=\"ws\">                </span>error = sys.exc_info()[1]</pre>\n",
      "<pre class=\"line after\"><span class=\"ws\">                </span>raise</pre>\n",
      "<pre class=\"line after\"><span class=\"ws\">            </span>return response(environ, start_response)</pre>\n",
      "<pre class=\"line after\"><span class=\"ws\">        </span>finally:</pre></div>\n",
      "</div>\n",
      "\n",
      "<li><div class=\"frame\" id=\"frame-2414429054320\">\n",
      "  <h4>File <cite class=\"filename\">\"C:\\Users\\lenovo\\Desktop\\fullstack\\venv\\lib\\site-packages\\flask\\app.py\"</cite>,\n",
      "      line <em class=\"line\">1511</em>,\n",
      "      in <code class=\"function\">wsgi_app</code></h4>\n",
      "  <div class=\"source library\"><pre class=\"line before\"><span class=\"ws\">        </span>ctx = self.request_context(environ)</pre>\n",
      "<pre class=\"line before\"><span class=\"ws\">        </span>error: BaseException | None = None</pre>\n",
      "<pre class=\"line before\"><span class=\"ws\">        </span>try:</pre>\n",
      "<pre class=\"line before\"><span class=\"ws\">            </span>try:</pre>\n",
      "<pre class=\"line before\"><span class=\"ws\">                </span>ctx.push()</pre>\n",
      "<pre class=\"line current\"><span class=\"ws\">                </span>response = self.full_dispatch_request()</pre>\n",
      "<pre class=\"line after\"><span class=\"ws\">            </span>except Exception as e:</pre>\n",
      "<pre class=\"line after\"><span class=\"ws\">                </span>error = e</pre>\n",
      "<pre class=\"line after\"><span class=\"ws\">                </span>response = self.handle_exception(e)</pre>\n",
      "<pre class=\"line after\"><span class=\"ws\">            </span>except:  # noqa: B001</pre>\n",
      "<pre class=\"line after\"><span class=\"ws\">                </span>error = sys.exc_info()[1]</pre></div>\n",
      "</div>\n",
      "\n",
      "<li><div class=\"frame\" id=\"frame-2414429054432\">\n",
      "  <h4>File <cite class=\"filename\">\"C:\\Users\\lenovo\\Desktop\\fullstack\\venv\\lib\\site-packages\\flask\\app.py\"</cite>,\n",
      "      line <em class=\"line\">919</em>,\n",
      "      in <code class=\"function\">full_dispatch_request</code></h4>\n",
      "  <div class=\"source library\"><pre class=\"line before\"><span class=\"ws\">            </span>request_started.send(self, _async_wrapper=self.ensure_sync)</pre>\n",
      "<pre class=\"line before\"><span class=\"ws\">            </span>rv = self.preprocess_request()</pre>\n",
      "<pre class=\"line before\"><span class=\"ws\">            </span>if rv is None:</pre>\n",
      "<pre class=\"line before\"><span class=\"ws\">                </span>rv = self.dispatch_request()</pre>\n",
      "<pre class=\"line before\"><span class=\"ws\">        </span>except Exception as e:</pre>\n",
      "<pre class=\"line current\"><span class=\"ws\">            </span>rv = self.handle_user_exception(e)</pre>\n",
      "<pre class=\"line after\"><span class=\"ws\">        </span>return self.finalize_request(rv)</pre>\n",
      "<pre class=\"line after\"><span class=\"ws\"></span> </pre>\n",
      "<pre class=\"line after\"><span class=\"ws\">    </span>def finalize_request(</pre>\n",
      "<pre class=\"line after\"><span class=\"ws\">        </span>self,</pre>\n",
      "<pre class=\"line after\"><span class=\"ws\">        </span>rv: ft.ResponseReturnValue | HTTPException,</pre></div>\n",
      "</div>\n",
      "\n",
      "<li><div class=\"frame\" id=\"frame-2414429054544\">\n",
      "  <h4>File <cite class=\"filename\">\"C:\\Users\\lenovo\\Desktop\\fullstack\\venv\\lib\\site-packages\\flask\\app.py\"</cite>,\n",
      "      line <em class=\"line\">917</em>,\n",
      "      in <code class=\"function\">full_dispatch_request</code></h4>\n",
      "  <div class=\"source library\"><pre class=\"line before\"><span class=\"ws\"></span> </pre>\n",
      "<pre class=\"line before\"><span class=\"ws\">        </span>try:</pre>\n",
      "<pre class=\"line before\"><span class=\"ws\">            </span>request_started.send(self, _async_wrapper=self.ensure_sync)</pre>\n",
      "<pre class=\"line before\"><span class=\"ws\">            </span>rv = self.preprocess_request()</pre>\n",
      "<pre class=\"line before\"><span class=\"ws\">            </span>if rv is None:</pre>\n",
      "<pre class=\"line current\"><span class=\"ws\">                </span>rv = self.dispatch_request()</pre>\n",
      "<pre class=\"line after\"><span class=\"ws\">        </span>except Exception as e:</pre>\n",
      "<pre class=\"line after\"><span class=\"ws\">            </span>rv = self.handle_user_exception(e)</pre>\n",
      "<pre class=\"line after\"><span class=\"ws\">        </span>return self.finalize_request(rv)</pre>\n",
      "<pre class=\"line after\"><span class=\"ws\"></span> </pre>\n",
      "<pre class=\"line after\"><span class=\"ws\">    </span>def finalize_request(</pre></div>\n",
      "</div>\n",
      "\n",
      "<li><div class=\"frame\" id=\"frame-2414429054656\">\n",
      "  <h4>File <cite class=\"filename\">\"C:\\Users\\lenovo\\Desktop\\fullstack\\venv\\lib\\site-packages\\flask\\app.py\"</cite>,\n",
      "      line <em class=\"line\">902</em>,\n",
      "      in <code class=\"function\">dispatch_request</code></h4>\n",
      "  <div class=\"source library\"><pre class=\"line before\"><span class=\"ws\">            </span>and req.method == &#34;OPTIONS&#34;</pre>\n",
      "<pre class=\"line before\"><span class=\"ws\">        </span>):</pre>\n",
      "<pre class=\"line before\"><span class=\"ws\">            </span>return self.make_default_options_response()</pre>\n",
      "<pre class=\"line before\"><span class=\"ws\">        </span># otherwise dispatch to the handler for that endpoint</pre>\n",
      "<pre class=\"line before\"><span class=\"ws\">        </span>view_args: dict[str, t.Any] = req.view_args  # type: ignore[assignment]</pre>\n",
      "<pre class=\"line current\"><span class=\"ws\">        </span>return self.ensure_sync(self.view_functions[rule.endpoint])(**view_args)  # type: ignore[no-any-return]</pre>\n",
      "<pre class=\"line after\"><span class=\"ws\"></span> </pre>\n",
      "<pre class=\"line after\"><span class=\"ws\">    </span>def full_dispatch_request(self) -&gt; Response:</pre>\n",
      "<pre class=\"line after\"><span class=\"ws\">        </span>&#34;&#34;&#34;Dispatches the request and on top of that performs request</pre>\n",
      "<pre class=\"line after\"><span class=\"ws\">        </span>pre and postprocessing as well as HTTP exception catching and</pre>\n",
      "<pre class=\"line after\"><span class=\"ws\">        </span>error handling.</pre></div>\n",
      "</div>\n",
      "\n",
      "<li><div class=\"frame\" id=\"frame-2414429054768\">\n",
      "  <h4>File <cite class=\"filename\">\"C:\\Users\\lenovo\\Desktop\\fullstack\\app.py\"</cite>,\n",
      "      line <em class=\"line\">26</em>,\n",
      "      in <code class=\"function\">add_resume</code></h4>\n",
      "  <div class=\"source \"><pre class=\"line before\"><span class=\"ws\"></span> </pre>\n",
      "<pre class=\"line before\"><span class=\"ws\">    </span>data = request.form.get(&#39;argument&#39;) # this was taken from the HTML form</pre>\n",
      "<pre class=\"line before\"><span class=\"ws\"></span> </pre>\n",
      "<pre class=\"line before\"><span class=\"ws\">    </span>if not data:</pre>\n",
      "<pre class=\"line before\"><span class=\"ws\">        </span>data = request.args.get(&#34;argument&#34;)  # fallback to query parameter if form data is not present</pre>\n",
      "<pre class=\"line current\"><span class=\"ws\">    </span>resume  = resume_text_to_json(data)</pre>\n",
      "<pre class=\"line after\"><span class=\"ws\">    </span>resume[&#39;score&#39;] = get_score(resume)</pre>\n",
      "<pre class=\"line after\"><span class=\"ws\"></span> </pre>\n",
      "<pre class=\"line after\"><span class=\"ws\">    </span>result = collection.insert_one(resume)</pre>\n",
      "<pre class=\"line after\"><span class=\"ws\">    </span>resume[&#34;_id&#34;] = str(result.inserted_id)  # Convert ObjectId to string for JSON serialization</pre>\n",
      "<pre class=\"line after\"><span class=\"ws\">    </span>return resume</pre></div>\n",
      "</div>\n",
      "\n",
      "<li><div class=\"frame\" id=\"frame-2414429054880\">\n",
      "  <h4>File <cite class=\"filename\">\"C:\\Users\\lenovo\\Desktop\\fullstack\\scoring.py\"</cite>,\n",
      "      line <em class=\"line\">10</em>,\n",
      "      in <code class=\"function\">resume_text_to_json</code></h4>\n",
      "  <div class=\"source \"><pre class=\"line before\"><span class=\"ws\"></span>with open(&#39;job_description.json&#39;, &#39;r&#39;, encoding=&#39;utf-8&#39;) as f:</pre>\n",
      "<pre class=\"line before\"><span class=\"ws\">    </span>job_description = json.load(f)</pre>\n",
      "<pre class=\"line before\"><span class=\"ws\"></span> </pre>\n",
      "<pre class=\"line before\"><span class=\"ws\"></span>def resume_text_to_json(resume):</pre>\n",
      "<pre class=\"line before\"><span class=\"ws\">    </span>clean_text = resume.encode().decode(&#39;unicode_escape&#39;)</pre>\n",
      "<pre class=\"line current\"><span class=\"ws\">    </span>data = json.loads(clean_text)</pre>\n",
      "<pre class=\"line after\"><span class=\"ws\">    </span>return data</pre>\n",
      "<pre class=\"line after\"><span class=\"ws\"></span> </pre>\n",
      "<pre class=\"line after\"><span class=\"ws\"></span> </pre>\n",
      "<pre class=\"line after\"><span class=\"ws\"></span>def get_vector(text):</pre>\n",
      "<pre class=\"line after\"><span class=\"ws\">    </span>response = requests.get(f&#39;https://moghit-word2vec-embeddings.hf.space/vectorization?text={text}&#39;)</pre></div>\n",
      "</div>\n",
      "\n",
      "<li><div class=\"frame\" id=\"frame-2414429055664\">\n",
      "  <h4>File <cite class=\"filename\">\"C:\\Users\\lenovo\\AppData\\Local\\Programs\\Python\\Python310\\lib\\json\\__init__.py\"</cite>,\n",
      "      line <em class=\"line\">346</em>,\n",
      "      in <code class=\"function\">loads</code></h4>\n",
      "  <div class=\"source \"><pre class=\"line before\"><span class=\"ws\">        </span>s = s.decode(detect_encoding(s), &#39;surrogatepass&#39;)</pre>\n",
      "<pre class=\"line before\"><span class=\"ws\"></span> </pre>\n",
      "<pre class=\"line before\"><span class=\"ws\">    </span>if (cls is None and object_hook is None and</pre>\n",
      "<pre class=\"line before\"><span class=\"ws\">            </span>parse_int is None and parse_float is None and</pre>\n",
      "<pre class=\"line before\"><span class=\"ws\">            </span>parse_constant is None and object_pairs_hook is None and not kw):</pre>\n",
      "<pre class=\"line current\"><span class=\"ws\">        </span>return _default_decoder.decode(s)</pre>\n",
      "<pre class=\"line after\"><span class=\"ws\">    </span>if cls is None:</pre>\n",
      "<pre class=\"line after\"><span class=\"ws\">        </span>cls = JSONDecoder</pre>\n",
      "<pre class=\"line after\"><span class=\"ws\">    </span>if object_hook is not None:</pre>\n",
      "<pre class=\"line after\"><span class=\"ws\">        </span>kw[&#39;object_hook&#39;] = object_hook</pre>\n",
      "<pre class=\"line after\"><span class=\"ws\">    </span>if object_pairs_hook is not None:</pre></div>\n",
      "</div>\n",
      "\n",
      "<li><div class=\"frame\" id=\"frame-2414429059808\">\n",
      "  <h4>File <cite class=\"filename\">\"C:\\Users\\lenovo\\AppData\\Local\\Programs\\Python\\Python310\\lib\\json\\decoder.py\"</cite>,\n",
      "      line <em class=\"line\">337</em>,\n",
      "      in <code class=\"function\">decode</code></h4>\n",
      "  <div class=\"source \"><pre class=\"line before\"><span class=\"ws\">    </span>def decode(self, s, _w=WHITESPACE.match):</pre>\n",
      "<pre class=\"line before\"><span class=\"ws\">        </span>&#34;&#34;&#34;Return the Python representation of ``s`` (a ``str`` instance</pre>\n",
      "<pre class=\"line before\"><span class=\"ws\">        </span>containing a JSON document).</pre>\n",
      "<pre class=\"line before\"><span class=\"ws\"></span> </pre>\n",
      "<pre class=\"line before\"><span class=\"ws\">        </span>&#34;&#34;&#34;</pre>\n",
      "<pre class=\"line current\"><span class=\"ws\">        </span>obj, end = self.raw_decode(s, idx=_w(s, 0).end())</pre>\n",
      "<pre class=\"line after\"><span class=\"ws\">        </span>end = _w(s, end).end()</pre>\n",
      "<pre class=\"line after\"><span class=\"ws\">        </span>if end != len(s):</pre>\n",
      "<pre class=\"line after\"><span class=\"ws\">            </span>raise JSONDecodeError(&#34;Extra data&#34;, s, end)</pre>\n",
      "<pre class=\"line after\"><span class=\"ws\">        </span>return obj</pre>\n",
      "<pre class=\"line after\"><span class=\"ws\"></span> </pre></div>\n",
      "</div>\n",
      "\n",
      "<li><div class=\"frame\" id=\"frame-2414429128400\">\n",
      "  <h4>File <cite class=\"filename\">\"C:\\Users\\lenovo\\AppData\\Local\\Programs\\Python\\Python310\\lib\\json\\decoder.py\"</cite>,\n",
      "      line <em class=\"line\">353</em>,\n",
      "      in <code class=\"function\">raw_decode</code></h4>\n",
      "  <div class=\"source \"><pre class=\"line before\"><span class=\"ws\">        </span>This can be used to decode a JSON document from a string that may</pre>\n",
      "<pre class=\"line before\"><span class=\"ws\">        </span>have extraneous data at the end.</pre>\n",
      "<pre class=\"line before\"><span class=\"ws\"></span> </pre>\n",
      "<pre class=\"line before\"><span class=\"ws\">        </span>&#34;&#34;&#34;</pre>\n",
      "<pre class=\"line before\"><span class=\"ws\">        </span>try:</pre>\n",
      "<pre class=\"line current\"><span class=\"ws\">            </span>obj, end = self.scan_once(s, idx)</pre>\n",
      "<pre class=\"line after\"><span class=\"ws\">        </span>except StopIteration as err:</pre>\n",
      "<pre class=\"line after\"><span class=\"ws\">            </span>raise JSONDecodeError(&#34;Expecting value&#34;, s, err.value) from None</pre>\n",
      "<pre class=\"line after\"><span class=\"ws\">        </span>return obj, end</pre></div>\n",
      "</div>\n",
      "</ul>\n",
      "  <blockquote>json.decoder.JSONDecodeError: Invalid control character at: line 1 column 3 (char 2)\n",
      "</blockquote>\n",
      "</div>\n",
      "\n",
      "<div class=\"plain\">\n",
      "    <p>\n",
      "      This is the Copy/Paste friendly version of the traceback.\n",
      "    </p>\n",
      "    <textarea cols=\"50\" rows=\"10\" name=\"code\" readonly>Traceback (most recent call last):\n",
      "  File &#34;C:\\Users\\lenovo\\Desktop\\fullstack\\venv\\lib\\site-packages\\flask\\app.py&#34;, line 1536, in __call__\n",
      "    return self.wsgi_app(environ, start_response)\n",
      "  File &#34;C:\\Users\\lenovo\\Desktop\\fullstack\\venv\\lib\\site-packages\\flask\\app.py&#34;, line 1514, in wsgi_app\n",
      "    response = self.handle_exception(e)\n",
      "  File &#34;C:\\Users\\lenovo\\Desktop\\fullstack\\venv\\lib\\site-packages\\flask\\app.py&#34;, line 1511, in wsgi_app\n",
      "    response = self.full_dispatch_request()\n",
      "  File &#34;C:\\Users\\lenovo\\Desktop\\fullstack\\venv\\lib\\site-packages\\flask\\app.py&#34;, line 919, in full_dispatch_request\n",
      "    rv = self.handle_user_exception(e)\n",
      "  File &#34;C:\\Users\\lenovo\\Desktop\\fullstack\\venv\\lib\\site-packages\\flask\\app.py&#34;, line 917, in full_dispatch_request\n",
      "    rv = self.dispatch_request()\n",
      "  File &#34;C:\\Users\\lenovo\\Desktop\\fullstack\\venv\\lib\\site-packages\\flask\\app.py&#34;, line 902, in dispatch_request\n",
      "    return self.ensure_sync(self.view_functions[rule.endpoint])(**view_args)  # type: ignore[no-any-return]\n",
      "  File &#34;C:\\Users\\lenovo\\Desktop\\fullstack\\app.py&#34;, line 26, in add_resume\n",
      "    resume  = resume_text_to_json(data)\n",
      "  File &#34;C:\\Users\\lenovo\\Desktop\\fullstack\\scoring.py&#34;, line 10, in resume_text_to_json\n",
      "    data = json.loads(clean_text)\n",
      "  File &#34;C:\\Users\\lenovo\\AppData\\Local\\Programs\\Python\\Python310\\lib\\json\\__init__.py&#34;, line 346, in loads\n",
      "    return _default_decoder.decode(s)\n",
      "  File &#34;C:\\Users\\lenovo\\AppData\\Local\\Programs\\Python\\Python310\\lib\\json\\decoder.py&#34;, line 337, in decode\n",
      "    obj, end = self.raw_decode(s, idx=_w(s, 0).end())\n",
      "  File &#34;C:\\Users\\lenovo\\AppData\\Local\\Programs\\Python\\Python310\\lib\\json\\decoder.py&#34;, line 353, in raw_decode\n",
      "    obj, end = self.scan_once(s, idx)\n",
      "json.decoder.JSONDecodeError: Invalid control character at: line 1 column 3 (char 2)\n",
      "</textarea>\n",
      "</div>\n",
      "<div class=\"explanation\">\n",
      "  The debugger caught an exception in your WSGI application.  You can now\n",
      "  look at the traceback which led to the error.  <span class=\"nojavascript\">\n",
      "  If you enable JavaScript you can also use additional features such as code\n",
      "  execution (if the evalex feature is enabled), automatic pasting of the\n",
      "  exceptions and much more.</span>\n",
      "</div>\n",
      "      <div class=\"footer\">\n",
      "        Brought to you by <strong class=\"arthur\">DON'T PANIC</strong>, your\n",
      "        friendly Werkzeug powered traceback interpreter.\n",
      "      </div>\n",
      "    </div>\n",
      "\n",
      "    <div class=\"pin-prompt\">\n",
      "      <div class=\"inner\">\n",
      "        <h3>Console Locked</h3>\n",
      "        <p>\n",
      "          The console is locked and needs to be unlocked by entering the PIN.\n",
      "          You can find the PIN printed out on the standard output of your\n",
      "          shell that runs the server.\n",
      "        <form>\n",
      "          <p>PIN:\n",
      "            <input type=text name=pin size=14>\n",
      "            <input type=submit name=btn value=\"Confirm Pin\">\n",
      "        </form>\n",
      "      </div>\n",
      "    </div>\n",
      "  </body>\n",
      "</html>\n",
      "\n",
      "<!--\n",
      "\n",
      "Traceback (most recent call last):\n",
      "  File \"C:\\Users\\lenovo\\Desktop\\fullstack\\venv\\lib\\site-packages\\flask\\app.py\", line 1536, in __call__\n",
      "    return self.wsgi_app(environ, start_response)\n",
      "  File \"C:\\Users\\lenovo\\Desktop\\fullstack\\venv\\lib\\site-packages\\flask\\app.py\", line 1514, in wsgi_app\n",
      "    response = self.handle_exception(e)\n",
      "  File \"C:\\Users\\lenovo\\Desktop\\fullstack\\venv\\lib\\site-packages\\flask\\app.py\", line 1511, in wsgi_app\n",
      "    response = self.full_dispatch_request()\n",
      "  File \"C:\\Users\\lenovo\\Desktop\\fullstack\\venv\\lib\\site-packages\\flask\\app.py\", line 919, in full_dispatch_request\n",
      "    rv = self.handle_user_exception(e)\n",
      "  File \"C:\\Users\\lenovo\\Desktop\\fullstack\\venv\\lib\\site-packages\\flask\\app.py\", line 917, in full_dispatch_request\n",
      "    rv = self.dispatch_request()\n",
      "  File \"C:\\Users\\lenovo\\Desktop\\fullstack\\venv\\lib\\site-packages\\flask\\app.py\", line 902, in dispatch_request\n",
      "    return self.ensure_sync(self.view_functions[rule.endpoint])(**view_args)  # type: ignore[no-any-return]\n",
      "  File \"C:\\Users\\lenovo\\Desktop\\fullstack\\app.py\", line 26, in add_resume\n",
      "    resume  = resume_text_to_json(data)\n",
      "  File \"C:\\Users\\lenovo\\Desktop\\fullstack\\scoring.py\", line 10, in resume_text_to_json\n",
      "    data = json.loads(clean_text)\n",
      "  File \"C:\\Users\\lenovo\\AppData\\Local\\Programs\\Python\\Python310\\lib\\json\\__init__.py\", line 346, in loads\n",
      "    return _default_decoder.decode(s)\n",
      "  File \"C:\\Users\\lenovo\\AppData\\Local\\Programs\\Python\\Python310\\lib\\json\\decoder.py\", line 337, in decode\n",
      "    obj, end = self.raw_decode(s, idx=_w(s, 0).end())\n",
      "  File \"C:\\Users\\lenovo\\AppData\\Local\\Programs\\Python\\Python310\\lib\\json\\decoder.py\", line 353, in raw_decode\n",
      "    obj, end = self.scan_once(s, idx)\n",
      "json.decoder.JSONDecodeError: Invalid control character at: line 1 column 3 (char 2)\n",
      "\n",
      "\n",
      "-->\n",
      "\n"
     ]
    }
   ],
   "source": [
    "import urllib\n",
    "resume = {\n",
    "    \"professional_summary\": \"Experienced data scientist.\",\n",
    "    \"work_experience\": \"Worked at XYZ Corp.\",\n",
    "    \"education\": \"Bachelor's in CS\",\n",
    "    \"skills\": \"Python, ML, NLP\",\n",
    "    \"others\": \"Certified AWS Architect\"\n",
    "}\n",
    "\n",
    "# Convert dict to JSON string\n",
    "resume_json = json.dumps(resume)\n",
    "\n",
    "# URL-encode JSON string\n",
    "encoded_resume = urllib.parse.quote(resume_json)\n",
    "\n",
    "# Send GET request with encoded JSON in query parameter 'argument'\n",
    "response = requests.get(f\"http://127.0.0.1:5000/add_resume?argument={encoded_resume}\")\n",
    "\n",
    "print(response)\n",
    "print(response.text)"
   ]
  },
  {
   "cell_type": "code",
   "execution_count": 19,
   "id": "7b46cdc3-2844-4262-aab1-be4d109fa540",
   "metadata": {},
   "outputs": [],
   "source": [
    "text ='''{\\n  \"contact_information\": {\\n    \"name\": \"First Last\",\\n    \"phone\": \"+1-234-456-789\",\\n    \"email\": \"professionalemail@resumeworded.com\",\\n    \"linkedin\": \"https://linkedin.com/in/username\",\\n    \"location\": \"Bay Area, California\"\\n  },\\n  \"professional_summary\": \"Software engineering lead with ten years' experience implementing backend systems in C++; led re-architecture of key platform that serves 100,000 requests per month, increasing speed by 20 percent; awarded the prestigious 'Most Impactful' award, given to the top 5 percent of engineers based on total impact to firm; promoted two times in 18 months, six months ahead of schedule.\",\\n  \"work_experience\": \"Job Titles: Software Engineering Manager and Data Science Manager, Business Analyst, Business Development Consultant. Responsibilities and Achievements: Launched Miami office with lead Director and recruited a new team of 10 employees; grew office revenue by 200% in first nine months (representing 20% of company revenue). Co-managed analytics and engineering teams. Led the first major effort to A/B test the company's e-commerce sales page and optimize it for customer acquisition; resulted in a 7.5% increase in conversions. Built Tableau dashboard using data from Amplitude and Segment to visualize core business KPIs (e.g. Monthly Recurring Revenue), saving 10 hours per week of manual reporting work. Reduced signup drop-offs from 65% to 15% and increased user engagement by 40%, through a combination of hypothesis testing, segmentation analysis and machine learning algorithms. Spearheaded a major pricing restructure by redirecting focus on consumer willingness to pay instead of product cost; implemented a three-tiered pricing model which increased average sale 35% and margin 12%. Designed training and peer-mentoring programs for the incoming class of 25 analysts in 2017; reduced onboarding time for new hires by 50%. Strengthened relationships with 6 strategic partners (including Expedia, Skyscanner and Airbnb) through follow-up meetings with C-suite executives. Developed and executed customer referral program, leading to 50% increase in referral business and $2MM of incremental revenue.\",\\n  \"education\": \"Degree: Bachelor of Engineering — Computer Science. Relevant Coursework: Not specified.\",\\n  \"skills\": \"Tableau (Advanced), Looker (Experienced), Segment, Amplitude, ElasticSearch, Python (Keras, Scikit-learn), Hadoop, Databases (MySQL), Hypothesis Testing, Recommendation Engines, Customer Segmentation Analysis (Advanced)\",\\n  \"others\": \"Awarded the prestigious 'Most Impactful' award, given to the top 5 percent of engineers based on total impact to firm. Promoted two times in 18 months, six months ahead of schedule.\"\\n}'''"
   ]
  },
  {
   "cell_type": "code",
   "execution_count": 43,
   "id": "9a9c12b8-0760-4c68-9e22-5cb59ee0ad75",
   "metadata": {},
   "outputs": [
    {
     "name": "stdout",
     "output_type": "stream",
     "text": [
      "<Response [200]>\n"
     ]
    }
   ],
   "source": [
    "response = requests.get(f\"http://127.0.0.1:5000/add_resume?argument={test}\")\n",
    "print ( response ) "
   ]
  },
  {
   "cell_type": "code",
   "execution_count": null,
   "id": "b312d9e4-f49d-4dc6-b4d0-db933f7cf72e",
   "metadata": {},
   "outputs": [],
   "source": []
  },
  {
   "cell_type": "code",
   "execution_count": 7,
   "id": "fc935178-7646-48fc-802f-4474c81bb382",
   "metadata": {
    "scrolled": true
   },
   "outputs": [],
   "source": [
    "from pymongo import MongoClient\n",
    "client = MongoClient(\"mongodb://localhost:27017/\")\n",
    "db = client[\"pfe_db\"]\n",
    "collection = db[\"students\"]"
   ]
  },
  {
   "cell_type": "code",
   "execution_count": 44,
   "id": "dc68e002-7fc1-48ef-b953-846850a88f73",
   "metadata": {},
   "outputs": [],
   "source": [
    "def get_list():\n",
    "    candidates = list(collection.find())\n",
    "    n = len(candidates)\n",
    "    for i in range(n):\n",
    "        for j in range(0 , i):\n",
    "            score_1 = candidates[i][\"score\"]\n",
    "            score_2 = candidates[j][\"score\"]\n",
    "\n",
    "            if score_1 > score_2:\n",
    "                candidates[i] , candidates[j] = candidates[j] , candidates[i]\n",
    "    return candidates"
   ]
  },
  {
   "cell_type": "code",
   "execution_count": 45,
   "id": "abf0a4eb-2014-4cea-834b-716116fb439c",
   "metadata": {},
   "outputs": [],
   "source": [
    "A = get_list()"
   ]
  },
  {
   "cell_type": "code",
   "execution_count": 17,
   "id": "3b0d291e-f30a-4bc8-8ca6-d47f5aca199b",
   "metadata": {},
   "outputs": [],
   "source": [
    "def resume_text_to_json(resume):\n",
    "    clean_text = resume.encode().decode('unicode_escape')\n",
    "    data = json.loads(clean_text)\n",
    "    return data "
   ]
  },
  {
   "cell_type": "code",
   "execution_count": 18,
   "id": "53640665-9035-4648-9452-f88bf46482a6",
   "metadata": {},
   "outputs": [],
   "source": [
    "def get_score(json_resume):\n",
    "    sections = ['professional_summary', 'work_experience', 'education', 'skills', 'others']\n",
    "    weights = {\n",
    "        \"professional_summary\": 0.1,\n",
    "        \"work_experience\": 0.3,\n",
    "        \"education\": 0.3,\n",
    "        \"skills\": 0.2,\n",
    "        \"others\": 0.1\n",
    "    }\n",
    "    scores = {}\n",
    "\n",
    "    weighted_sum = 0\n",
    "    total_weight = 0\n",
    "\n",
    "    for section in sections:\n",
    "        candidate_text = json_resume[section]\n",
    "        job_text = job_description[section]\n",
    "        score = cosine_similarity(candidate_text, job_text)\n",
    "        scores[section] = score\n",
    "\n",
    "        weight = weights.get(section, 0)\n",
    "        weighted_sum += score * weight\n",
    "        total_weight += weight\n",
    "\n",
    "    overall_score = weighted_sum / total_weight if total_weight != 0 else 0\n",
    "    return overall_score\n"
   ]
  },
  {
   "cell_type": "code",
   "execution_count": 20,
   "id": "fc8b2313-aa30-4c0f-80d7-bd50249d2cf5",
   "metadata": {},
   "outputs": [],
   "source": [
    "resume = resume_text_to_json(text)"
   ]
  },
  {
   "cell_type": "code",
   "execution_count": null,
   "id": "ba7033de-6639-434b-9c16-926623f418f8",
   "metadata": {},
   "outputs": [],
   "source": []
  }
 ],
 "metadata": {
  "kernelspec": {
   "display_name": "FULLSTACK",
   "language": "python",
   "name": "myenv"
  },
  "language_info": {
   "codemirror_mode": {
    "name": "ipython",
    "version": 3
   },
   "file_extension": ".py",
   "mimetype": "text/x-python",
   "name": "python",
   "nbconvert_exporter": "python",
   "pygments_lexer": "ipython3",
   "version": "3.10.0"
  }
 },
 "nbformat": 4,
 "nbformat_minor": 5
}
