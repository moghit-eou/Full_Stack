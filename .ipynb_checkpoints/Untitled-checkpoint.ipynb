{
 "cells": [
  {
   "cell_type": "code",
   "execution_count": 1,
   "id": "41cabbf5-0fe8-4fd8-a912-db32aa914ea9",
   "metadata": {},
   "outputs": [],
   "source": [
    "from pymongo import MongoClient\n",
    "\n",
    "client = MongoClient(\"mongodb://localhost:27017/\")\n",
    "db = client[\"pfe_db\"]  # Database name\n",
    "collection = db[\"students\"]  # Collection name equivalent to a table in SQL\n",
    "\n",
    "document = {\n",
    "    \"name\": \"Alice\",\n",
    "    \"age\": 30,\n",
    "    \"email\": \"alice@example.com\"\n",
    "}\n",
    "\n",
    "for doc in db.students.find():\n",
    "    print(doc)"
   ]
  },
  {
   "cell_type": "code",
   "execution_count": 37,
   "id": "c978bceb-1284-4832-add3-7188b730cd8c",
   "metadata": {},
   "outputs": [
    {
     "data": {
      "text/plain": [
       "InsertOneResult(ObjectId('683b824da0a29fd4364a0996'), acknowledged=True)"
      ]
     },
     "execution_count": 37,
     "metadata": {},
     "output_type": "execute_result"
    }
   ],
   "source": [
    "collection.insert_one(document)\n"
   ]
  },
  {
   "cell_type": "code",
   "execution_count": 3,
   "id": "1639b4d6-d4a2-4a0e-9256-ec7017aa6234",
   "metadata": {},
   "outputs": [
    {
     "name": "stdout",
     "output_type": "stream",
     "text": [
      "hellomoghit\n"
     ]
    }
   ],
   "source": [
    "print ( message )"
   ]
  },
  {
   "cell_type": "code",
   "execution_count": 2,
   "id": "9c15a9fe-80b1-46f9-ab76-c01720b69dbb",
   "metadata": {},
   "outputs": [],
   "source": [
    "import json\n",
    "\n",
    "raw_text = '''{\n",
    "  \"contact_information\": {\n",
    "    \"name\": \"First Last\",\n",
    "    \"phone\": \"+1-234-456-789\",\n",
    "    \"email\": \"professionalemail@resumeworded.com\",\n",
    "    \"linkedin\": \"linkedin.com/in/username\",\n",
    "    \"location\": \"Bay Area, California\"\n",
    "  },\n",
    "  \"professional_summary\": \"Software engineering lead with ten years' experience implementing backend systems in C++; led re-architecture of key platform that serves 100,000 requests per month, increasing speed by 20 percent; awarded the prestigious 'Most Impactful' award, given to the top 5 percent of engineers based on total impact to firm; promoted two times in 18 months, six months ahead of schedule.\",\n",
    "  \"work_experience\": \"Job Titles: Software Engineering Manager, Data Science Manager, Business Analyst, Business Development Consultant. Responsibilities and Achievements: Launched Miami office with lead Director and recruited a new team of 10 employees; grew office revenue by 200% in first nine months (representing 20% of company revenue). Led the first major effort to A/B test the company's e-commerce sales page and optimize it for customer acquisition; resulted in a 7.5% increase in conversions. Built Tableau dashboard using data from Amplitude and Segment to visualize core business KPIs (e.g. Monthly Recurring Revenue), saving 10 hours per week of manual reporting work. Reduced signup drop-offs from 65% to 15% and increased user engagement by 40%, through a combination of hypothesis testing, segmentation analysis and machine learning algorithms. First hire on the analytics team of RW Ventures funded startup ($10mm Series A). Developed product strategies for lead Director and trained the team as it grew to 25 employees. Led redesign of mobile app and website. Spearheaded a major pricing restructure by redirecting focus on consumer willingness to pay instead of product cost; implemented a three-tiered pricing model which increased average sale 35% and margin 12%. Designed training and peer-mentoring programs for the incoming class of 25 analysts in 2017; reduced onboarding time for new hires by 50%. Liaised with C-level executives of My Exciting Company, a RW Ventures-backed ecommerce marketplace website with 100k members which helps designers sell their artwork and designs to businesses. Strengthened relationships with 6 strategic partners (including Expedia, Skyscanner and Airbnb) through follow-up meetings with C-suite executives. Developed and executed customer referral program, leading to 50% increase in referral business and $2MM of incremental revenue.\",\n",
    "  \"education\": \"Degree: Bachelor of Engineering — Computer Science.\",\n",
    "  \"skills\": \"Data Visualization/Engineering: Tableau (Advanced), Looker (Experienced), Segment, Amplitude. Techniques: Hypothesis Testing, Recommendation Engines, Customer Segmentation Analysis (Advanced). Tools and Frameworks: ElasticSearch, Python (Keras, Scikit-learn), Hadoop, Python, Databases (MySQL).\",\n",
    "  \"others\":\"\"\n",
    "}'''\n",
    "\n",
    "# Decode the escaped characters\n",
    "raw_text = raw_text.encode().decode('unicode_escape')\n",
    "\n",
    "# Load as JSON\n",
    "resume = json.loads(raw_text)\n",
    "\n"
   ]
  },
  {
   "cell_type": "code",
   "execution_count": 3,
   "id": "1ed032cb-8f01-4330-be80-e066e90376af",
   "metadata": {},
   "outputs": [
    {
     "data": {
      "text/plain": [
       "{'contact_information': {'name': 'First Last',\n",
       "  'phone': '+1-234-456-789',\n",
       "  'email': 'professionalemail@resumeworded.com',\n",
       "  'linkedin': 'linkedin.com/in/username',\n",
       "  'location': 'Bay Area, California'},\n",
       " 'professional_summary': \"Software engineering lead with ten years' experience implementing backend systems in C++; led re-architecture of key platform that serves 100,000 requests per month, increasing speed by 20 percent; awarded the prestigious 'Most Impactful' award, given to the top 5 percent of engineers based on total impact to firm; promoted two times in 18 months, six months ahead of schedule.\",\n",
       " 'work_experience': \"Job Titles: Software Engineering Manager, Data Science Manager, Business Analyst, Business Development Consultant. Responsibilities and Achievements: Launched Miami office with lead Director and recruited a new team of 10 employees; grew office revenue by 200% in first nine months (representing 20% of company revenue). Led the first major effort to A/B test the company's e-commerce sales page and optimize it for customer acquisition; resulted in a 7.5% increase in conversions. Built Tableau dashboard using data from Amplitude and Segment to visualize core business KPIs (e.g. Monthly Recurring Revenue), saving 10 hours per week of manual reporting work. Reduced signup drop-offs from 65% to 15% and increased user engagement by 40%, through a combination of hypothesis testing, segmentation analysis and machine learning algorithms. First hire on the analytics team of RW Ventures funded startup ($10mm Series A). Developed product strategies for lead Director and trained the team as it grew to 25 employees. Led redesign of mobile app and website. Spearheaded a major pricing restructure by redirecting focus on consumer willingness to pay instead of product cost; implemented a three-tiered pricing model which increased average sale 35% and margin 12%. Designed training and peer-mentoring programs for the incoming class of 25 analysts in 2017; reduced onboarding time for new hires by 50%. Liaised with C-level executives of My Exciting Company, a RW Ventures-backed ecommerce marketplace website with 100k members which helps designers sell their artwork and designs to businesses. Strengthened relationships with 6 strategic partners (including Expedia, Skyscanner and Airbnb) through follow-up meetings with C-suite executives. Developed and executed customer referral program, leading to 50% increase in referral business and $2MM of incremental revenue.\",\n",
       " 'education': 'Degree: Bachelor of Engineering â\\x80\\x94 Computer Science.',\n",
       " 'skills': 'Data Visualization/Engineering: Tableau (Advanced), Looker (Experienced), Segment, Amplitude. Techniques: Hypothesis Testing, Recommendation Engines, Customer Segmentation Analysis (Advanced). Tools and Frameworks: ElasticSearch, Python (Keras, Scikit-learn), Hadoop, Python, Databases (MySQL).',\n",
       " 'others': ''}"
      ]
     },
     "execution_count": 3,
     "metadata": {},
     "output_type": "execute_result"
    }
   ],
   "source": [
    "resume"
   ]
  },
  {
   "cell_type": "code",
   "execution_count": 26,
   "id": "6ba95b5f-f483-4094-9d58-3f16f38f978e",
   "metadata": {},
   "outputs": [],
   "source": [
    "resume = {\n",
    "  \"professional_summary\": \"Experienced data scientist with a strong background in machine learning and NLP.\",\n",
    "  \"work_experience\": \"Worked as a data analyst at XYZ company for 3 years.\",\n",
    "  \"education\": \"Bachelor's degree in Computer Science from University ABC.\",\n",
    "  \"skills\": \"Python, Machine Learning, Data Analysis, NLP\",\n",
    "  \"others\": \"Certified AWS Solutions Architect; volunteer at AI charity.\"\n",
    "}\n"
   ]
  },
  {
   "cell_type": "code",
   "execution_count": 27,
   "id": "9b7758a9-56ba-45b8-8c26-b71b688032e3",
   "metadata": {},
   "outputs": [
    {
     "name": "stdout",
     "output_type": "stream",
     "text": [
      "{'professional_summary': 'We are seeking a highly motivated and experienced Machine Learning Engineer to join our cutting-edge AI team. The ideal candidate will possess deep expertise in designing, building, and deploying scalable machine learning models, coupled with strong software engineering skills. You will work closely with data scientists, engineers, and product managers to develop innovative solutions that impact millions of users worldwide. The role demands a passion for continual learning, strong problem-solving skills, and the ability to operate in a fast-paced, collaborative environment.', 'work_experience': 'Job Titles: Machine Learning Engineer, Data Scientist, AI Researcher, Data Engineer. Responsibilities and Achievements: Led end-to-end development of production-grade ML systems using frameworks such as TensorFlow, PyTorch, and MXNet. Architected data pipelines for real-time and batch processing with Apache Kafka, Apache Spark, and Airflow. Developed advanced feature engineering workflows and implemented model interpretability techniques such as SHAP and LIME. Designed and optimized deep learning models for NLP, computer vision, and recommendation systems. Automated ML lifecycle management using tools like MLflow and Kubeflow. Implemented scalable model serving solutions with TensorFlow Serving, TorchServe, or NVIDIA Triton Inference Server. Collaborated with DevOps and cloud teams to deploy ML models on Kubernetes clusters, leveraging Helm charts and Prometheus monitoring. Spearheaded migration from monolithic ML applications to microservices architectures improving deployment agility. Drove data quality initiatives and built robust validation frameworks to detect data drift and model degradation. Mentored cross-functional teams on best practices in ML model development and deployment.', 'education': \"Degree: Bachelor's, Master’s, or Ph.D. in Computer Science, Machine Learning, Statistics, Mathematics, or a related quantitative field. Relevant Coursework: Advanced Machine Learning, Deep Learning, Statistical Learning Theory, Optimization Algorithms, Computer Vision, Natural Language Processing, Distributed Computing, Big Data Analytics.\", 'skills': 'Programming: Advanced proficiency in Python, R, Java, or Scala. Libraries and Frameworks: TensorFlow, PyTorch, Keras, scikit-learn, XGBoost, LightGBM, Hugging Face Transformers. Data Engineering: Apache Spark, Hadoop, Airflow, Kafka, SQL, NoSQL databases (MongoDB, Cassandra). Cloud Platforms: AWS (SageMaker, EC2, S3), Google Cloud (AI Platform, BigQuery), Microsoft Azure (Machine Learning Studio). Containerization & Orchestration: Docker, Kubernetes, Helm, OpenShift. Monitoring & CI/CD: Prometheus, Grafana, Jenkins, GitLab CI/CD, MLflow, Kubeflow Pipelines. Model Explainability: SHAP, LIME, ELI5. Other Tools: Jupyter, VS Code, Git, REST APIs, Linux/Unix environments. Soft Skills: Strong analytical thinking, excellent communication, teamwork, and project management.', 'others': 'Certifications: AWS Certified Machine Learning – Specialty, Google Professional Machine Learning Engineer, Microsoft Certified: Azure AI Engineer Associate, TensorFlow Developer Certificate. Contributions: Active contributor to open-source projects such as TensorFlow, PyTorch, and scikit-learn. Publications: Authored papers in NeurIPS, ICML, CVPR, and ACL conferences. Community Engagement: Speaker at AI conferences and meetups, organizer of local ML workshops and hackathons. Additional Expertise: Experience deploying ML models on edge devices (NVIDIA Jetson, Raspberry Pi), working with federated learning frameworks, and knowledge of ethical AI and fairness in machine learning.'}\n"
     ]
    }
   ],
   "source": [
    "import json\n",
    "\n",
    "# Open and load the JSON file\n",
    "with open('job_description.json', 'r', encoding='utf-8') as f:\n",
    "    job_description = json.load(f)\n",
    "\n",
    "# Now `data` is a Python dictionary (or list) representing your JSON content\n",
    "print(job_description)\n"
   ]
  },
  {
   "cell_type": "code",
   "execution_count": null,
   "id": "0a9fed4c-92f9-49a7-a7f5-47f998291bea",
   "metadata": {},
   "outputs": [],
   "source": []
  },
  {
   "cell_type": "code",
   "execution_count": 28,
   "id": "b790a2d3-ae0a-4b7d-93c6-35ccc54f689b",
   "metadata": {},
   "outputs": [
    {
     "name": "stdout",
     "output_type": "stream",
     "text": [
      "6.087651795618072\n"
     ]
    }
   ],
   "source": [
    "import numpy as np\n",
    "import requests\n",
    "\n",
    "def get_vector(text):\n",
    "    response = requests.get(f'https://moghit-word2vec-embeddings.hf.space/vectorization?text={text}')\n",
    "    data = response.json()\n",
    "\n",
    "    if 'vector' not in data:\n",
    "        return 0  \n",
    "\n",
    "    return data['vector']\n",
    "\n",
    "\n",
    "def cosine_similarity(first_text, second_text):\n",
    "    vec1 = get_vector(first_text)\n",
    "    vec2 = get_vector(second_text)\n",
    "\n",
    "    # dot(vec1, vec2) / (||vec1|| * ||vec2||)\n",
    "    dot_product = np.dot(vec1, vec2)\n",
    "    norm_vec1 = np.linalg.norm(vec1)\n",
    "    norm_vec2 = np.linalg.norm(vec2)\n",
    "\n",
    "    if norm_vec1 == 0 or norm_vec2 == 0:\n",
    "        return 0  # avoid division by zero\n",
    "\n",
    "    return dot_product / (norm_vec1 * norm_vec2)\n",
    "\n",
    "\n",
    "\n",
    "x = cosine_similarity(\"html\", job_description[\"skills\"])\n",
    "docker = get_vector(\"docker\")\n",
    "print ( np.dot(docker , docker ) )\n"
   ]
  },
  {
   "cell_type": "code",
   "execution_count": 29,
   "id": "b74a7a64-6567-4494-8b91-59f87e88ba02",
   "metadata": {},
   "outputs": [],
   "source": [
    "def get_score(json_resume):\n",
    "    sections = ['professional_summary', 'work_experience', 'education', 'skills', 'others']\n",
    "    scores = {}\n",
    "\n",
    "    for section in sections:\n",
    "        candidate_text = json_resume[section]\n",
    "        job_text = job_description[section]\n",
    "        scores[section] = cosine_similarity(candidate_text, job_text)\n",
    "\n",
    "    overall_score = sum(scores.values()) / len(scores)\n",
    "    return overall_score\n"
   ]
  },
  {
   "cell_type": "code",
   "execution_count": 35,
   "id": "fa6c5a92-9b83-4367-8cff-b1afce768441",
   "metadata": {},
   "outputs": [
    {
     "data": {
      "text/plain": [
       "np.float64(0.6981879572396279)"
      ]
     },
     "execution_count": 35,
     "metadata": {},
     "output_type": "execute_result"
    }
   ],
   "source": [
    "get_score(resume)"
   ]
  },
  {
   "cell_type": "code",
   "execution_count": 37,
   "id": "4911d978-91b5-4b95-ae1d-f01a9c4e819b",
   "metadata": {},
   "outputs": [
    {
     "name": "stdout",
     "output_type": "stream",
     "text": [
      "<Response [500]>\n"
     ]
    }
   ],
   "source": [
    "response = requests.get(f\"http://127.0.0.1:5000/add_resume?argument={str(resume)}\")\n",
    "print ( response ) "
   ]
  },
  {
   "cell_type": "code",
   "execution_count": 33,
   "id": "78945f7f-a7ca-4be8-9d74-0eab3db1ae5c",
   "metadata": {},
   "outputs": [],
   "source": [
    "def resume_text_to_json(resume):\n",
    "    clean_text = resume.encode().decode('unicode_escape')\n",
    "    data = json.loads(clean_text)\n",
    "    return data \n"
   ]
  },
  {
   "cell_type": "code",
   "execution_count": 36,
   "id": "67ab1cbe-2cb5-43a2-ba31-040775f9b3c6",
   "metadata": {},
   "outputs": [
    {
     "data": {
      "text/plain": [
       "'{\\'professional_summary\\': \\'Experienced data scientist with a strong background in machine learning and NLP.\\', \\'work_experience\\': \\'Worked as a data analyst at XYZ company for 3 years.\\', \\'education\\': \"Bachelor\\'s degree in Computer Science from University ABC.\", \\'skills\\': \\'Python, Machine Learning, Data Analysis, NLP\\', \\'others\\': \\'Certified AWS Solutions Architect; volunteer at AI charity.\\'}'"
      ]
     },
     "execution_count": 36,
     "metadata": {},
     "output_type": "execute_result"
    }
   ],
   "source": [
    "str( resume ) "
   ]
  },
  {
   "cell_type": "code",
   "execution_count": 39,
   "id": "622fca3e-b1e5-4716-9c4b-c6af3ed2a078",
   "metadata": {},
   "outputs": [
    {
     "name": "stdout",
     "output_type": "stream",
     "text": [
      "<Response [200]>\n",
      "{\n",
      "  \"_id\": \"683d819a1cc43b8c8b211521\",\n",
      "  \"education\": \"Bachelor's in CS\",\n",
      "  \"link\": \"https://example.com/resume.pdf\",\n",
      "  \"others\": \"Certified AWS Architect\",\n",
      "  \"professional_summary\": \"Experienced data scientist.\",\n",
      "  \"score\": 0.4499734719202514,\n",
      "  \"skills\": \"Python, ML, NLP\",\n",
      "  \"work_experience\": \"Worked at XYZ Corp.\"\n",
      "}\n",
      "\n"
     ]
    }
   ],
   "source": [
    "import urllib\n",
    "resume = {\n",
    "    \"professional_summary\": \"Experienced data scientist.\",\n",
    "    \"work_experience\": \"Worked at XYZ Corp.\",\n",
    "    \"education\": \"Bachelor's in CS\",\n",
    "    \"skills\": \"Python, ML, NLP\",\n",
    "    \"others\": \"Certified AWS Architect\"\n",
    "}\n",
    "\n",
    "# Convert dict to JSON string\n",
    "resume_json = json.dumps(resume)\n",
    "\n",
    "# URL-encode JSON string\n",
    "encoded_resume = urllib.parse.quote(resume_json)\n",
    "\n",
    "# Send GET request with encoded JSON in query parameter 'argument'\n",
    "response = requests.get(f\"http://127.0.0.1:5000/add_resume?argument={encoded_resume}\")\n",
    "\n",
    "print(response)\n",
    "print(response.text)"
   ]
  },
  {
   "cell_type": "code",
   "execution_count": 41,
   "id": "7b46cdc3-2844-4262-aab1-be4d109fa540",
   "metadata": {},
   "outputs": [],
   "source": [
    "test ='''{\\n  \"contact_information\": {\\n    \"name\": \"First Last\",\\n    \"phone\": \"+1-234-456-789\",\\n    \"email\": \"professionalemail@resumeworded.com\",\\n    \"linkedin\": \"https://linkedin.com/in/username\",\\n    \"location\": \"Bay Area, California\"\\n  },\\n  \"professional_summary\": \"Software engineering lead with ten years' experience implementing backend systems in C++; led re-architecture of key platform that serves 100,000 requests per month, increasing speed by 20 percent; awarded the prestigious 'Most Impactful' award, given to the top 5 percent of engineers based on total impact to firm; promoted two times in 18 months, six months ahead of schedule.\",\\n  \"work_experience\": \"Job Titles: Software Engineering Manager and Data Science Manager, Business Analyst, Business Development Consultant. Responsibilities and Achievements: Launched Miami office with lead Director and recruited a new team of 10 employees; grew office revenue by 200% in first nine months (representing 20% of company revenue). Co-managed analytics and engineering teams. Led the first major effort to A/B test the company's e-commerce sales page and optimize it for customer acquisition; resulted in a 7.5% increase in conversions. Built Tableau dashboard using data from Amplitude and Segment to visualize core business KPIs (e.g. Monthly Recurring Revenue), saving 10 hours per week of manual reporting work. Reduced signup drop-offs from 65% to 15% and increased user engagement by 40%, through a combination of hypothesis testing, segmentation analysis and machine learning algorithms. Spearheaded a major pricing restructure by redirecting focus on consumer willingness to pay instead of product cost; implemented a three-tiered pricing model which increased average sale 35% and margin 12%. Designed training and peer-mentoring programs for the incoming class of 25 analysts in 2017; reduced onboarding time for new hires by 50%. Strengthened relationships with 6 strategic partners (including Expedia, Skyscanner and Airbnb) through follow-up meetings with C-suite executives. Developed and executed customer referral program, leading to 50% increase in referral business and $2MM of incremental revenue.\",\\n  \"education\": \"Degree: Bachelor of Engineering — Computer Science. Relevant Coursework: Not specified.\",\\n  \"skills\": \"Tableau (Advanced), Looker (Experienced), Segment, Amplitude, ElasticSearch, Python (Keras, Scikit-learn), Hadoop, Databases (MySQL), Hypothesis Testing, Recommendation Engines, Customer Segmentation Analysis (Advanced)\",\\n  \"others\": \"Awarded the prestigious 'Most Impactful' award, given to the top 5 percent of engineers based on total impact to firm. Promoted two times in 18 months, six months ahead of schedule.\"\\n}'''"
   ]
  },
  {
   "cell_type": "code",
   "execution_count": 43,
   "id": "9a9c12b8-0760-4c68-9e22-5cb59ee0ad75",
   "metadata": {},
   "outputs": [
    {
     "name": "stdout",
     "output_type": "stream",
     "text": [
      "<Response [200]>\n"
     ]
    }
   ],
   "source": [
    "response = requests.get(f\"http://127.0.0.1:5000/add_resume?argument={test}\")\n",
    "print ( response ) "
   ]
  },
  {
   "cell_type": "code",
   "execution_count": null,
   "id": "b312d9e4-f49d-4dc6-b4d0-db933f7cf72e",
   "metadata": {},
   "outputs": [],
   "source": []
  },
  {
   "cell_type": "code",
   "execution_count": 7,
   "id": "fc935178-7646-48fc-802f-4474c81bb382",
   "metadata": {
    "scrolled": true
   },
   "outputs": [],
   "source": [
    "from pymongo import MongoClient\n",
    "client = MongoClient(\"mongodb://localhost:27017/\")\n",
    "db = client[\"pfe_db\"]\n",
    "collection = db[\"students\"]"
   ]
  },
  {
   "cell_type": "code",
   "execution_count": 23,
   "id": "dc68e002-7fc1-48ef-b953-846850a88f73",
   "metadata": {},
   "outputs": [],
   "source": [
    "def get_list():\n",
    "    A = list(collection.find())\n",
    "    n = len ( A )\n",
    "    for i in range ( n ) : \n",
    "        for j in range( n - 1 ) :\n",
    "            score_1 = A[i][\"score\"]\n",
    "            score_2 = A[j][\"score\"]\n",
    "\n",
    "            if ( score_1 > score_2 ):\n",
    "                temp = A[i]\n",
    "                A[i] = A[j] \n",
    "                A[j] = temp\n",
    "    candidates = A\n",
    "    return candidates"
   ]
  },
  {
   "cell_type": "code",
   "execution_count": 24,
   "id": "abf0a4eb-2014-4cea-834b-716116fb439c",
   "metadata": {},
   "outputs": [],
   "source": [
    "A = get_list()"
   ]
  },
  {
   "cell_type": "code",
   "execution_count": 25,
   "id": "3b0d291e-f30a-4bc8-8ca6-d47f5aca199b",
   "metadata": {},
   "outputs": [
    {
     "name": "stdout",
     "output_type": "stream",
     "text": [
      "0.6808736571848735\n",
      "0.6162977930008992\n",
      "0.60133736278601\n",
      "0.5756379527260114\n"
     ]
    }
   ],
   "source": [
    "for item in get_list():\n",
    "    print ( item[\"score\"] ) "
   ]
  },
  {
   "cell_type": "code",
   "execution_count": null,
   "id": "53640665-9035-4648-9452-f88bf46482a6",
   "metadata": {},
   "outputs": [],
   "source": []
  }
 ],
 "metadata": {
  "kernelspec": {
   "display_name": "FULLSTACK",
   "language": "python",
   "name": "myenv"
  },
  "language_info": {
   "codemirror_mode": {
    "name": "ipython",
    "version": 3
   },
   "file_extension": ".py",
   "mimetype": "text/x-python",
   "name": "python",
   "nbconvert_exporter": "python",
   "pygments_lexer": "ipython3",
   "version": "3.10.0"
  }
 },
 "nbformat": 4,
 "nbformat_minor": 5
}
