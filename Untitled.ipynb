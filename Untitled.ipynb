{
 "cells": [
  {
   "cell_type": "code",
   "execution_count": 35,
   "id": "41cabbf5-0fe8-4fd8-a912-db32aa914ea9",
   "metadata": {},
   "outputs": [
    {
     "name": "stdout",
     "output_type": "stream",
     "text": [
      "{'_id': ObjectId('683a15553f0385ed891290de'), 'name': 'Alice', 'age': 22, 'major': 'Computer Science'}\n",
      "{'_id': ObjectId('683a169dae961143828ba8d0'), 'name': 'Alice', 'age': 22, 'major': 'Computer Science'}\n",
      "{'_id': ObjectId('683a17b7c9e5ee4e96daad17'), 'name': 'bob', 'height': 50}\n"
     ]
    }
   ],
   "source": [
    "from pymongo import MongoClient\n",
    "\n",
    "client = MongoClient(\"mongodb://localhost:27017/\")\n",
    "db = client[\"pfe_db\"]  # Database name\n",
    "collection = db[\"students\"]  # Collection name equivalent to a table in SQL\n",
    "\n",
    "document = {\n",
    "    \"name\": \"Alice\",\n",
    "    \"age\": 30,\n",
    "    \"email\": \"alice@example.com\"\n",
    "}\n",
    "\n",
    "for doc in db.students.find():\n",
    "    print(doc)"
   ]
  },
  {
   "cell_type": "code",
   "execution_count": 37,
   "id": "c978bceb-1284-4832-add3-7188b730cd8c",
   "metadata": {},
   "outputs": [
    {
     "data": {
      "text/plain": [
       "InsertOneResult(ObjectId('683b824da0a29fd4364a0996'), acknowledged=True)"
      ]
     },
     "execution_count": 37,
     "metadata": {},
     "output_type": "execute_result"
    }
   ],
   "source": [
    "collection.insert_one(document)\n"
   ]
  },
  {
   "cell_type": "code",
   "execution_count": 3,
   "id": "1639b4d6-d4a2-4a0e-9256-ec7017aa6234",
   "metadata": {},
   "outputs": [
    {
     "name": "stdout",
     "output_type": "stream",
     "text": [
      "hellomoghit\n"
     ]
    }
   ],
   "source": [
    "print ( message )"
   ]
  },
  {
   "cell_type": "code",
   "execution_count": 30,
   "id": "9c15a9fe-80b1-46f9-ab76-c01720b69dbb",
   "metadata": {},
   "outputs": [
    {
     "name": "stdout",
     "output_type": "stream",
     "text": [
      "{'contact_information': {'name': 'First Last', 'phone': '+1-234-456-789', 'email': 'professionalemail@resumeworded.com', 'linkedin': 'linkedin.com/in/username', 'location': 'Bay Area, California'}, 'professional_summary': \"Software engineering lead with ten years' experience implementing backend systems in C++; led re-architecture of key platform that serves 100,000 requests per month, increasing speed by 20 percent; awarded the prestigious 'Most Impactful' award, given to the top 5 percent of engineers based on total impact to firm; promoted two times in 18 months, six months ahead of schedule.\", 'work_experience': \"Job Titles: Software Engineering Manager, Data Science Manager, Business Analyst, Business Development Consultant. Responsibilities and Achievements: Launched Miami office with lead Director and recruited a new team of 10 employees; grew office revenue by 200% in first nine months (representing 20% of company revenue). Led the first major effort to A/B test the company's e-commerce sales page and optimize it for customer acquisition; resulted in a 7.5% increase in conversions. Built Tableau dashboard using data from Amplitude and Segment to visualize core business KPIs (e.g. Monthly Recurring Revenue), saving 10 hours per week of manual reporting work. Reduced signup drop-offs from 65% to 15% and increased user engagement by 40%, through a combination of hypothesis testing, segmentation analysis and machine learning algorithms. First hire on the analytics team of RW Ventures funded startup ($10mm Series A). Developed product strategies for lead Director and trained the team as it grew to 25 employees. Led redesign of mobile app and website. Spearheaded a major pricing restructure by redirecting focus on consumer willingness to pay instead of product cost; implemented a three-tiered pricing model which increased average sale 35% and margin 12%. Designed training and peer-mentoring programs for the incoming class of 25 analysts in 2017; reduced onboarding time for new hires by 50%. Liaised with C-level executives of My Exciting Company, a RW Ventures-backed ecommerce marketplace website with 100k members which helps designers sell their artwork and designs to businesses. Strengthened relationships with 6 strategic partners (including Expedia, Skyscanner and Airbnb) through follow-up meetings with C-suite executives. Developed and executed customer referral program, leading to 50% increase in referral business and $2MM of incremental revenue.\", 'education': 'Degree: Bachelor of Engineering â\\x80\\x94 Computer Science.', 'skills': 'Data Visualization/Engineering: Tableau (Advanced), Looker (Experienced), Segment, Amplitude. Techniques: Hypothesis Testing, Recommendation Engines, Customer Segmentation Analysis (Advanced). Tools and Frameworks: ElasticSearch, Python (Keras, Scikit-learn), Hadoop, Python, Databases (MySQL).'}\n"
     ]
    }
   ],
   "source": [
    "import json\n",
    "\n",
    "raw_text = '''{\n",
    "  \"contact_information\": {\n",
    "    \"name\": \"First Last\",\n",
    "    \"phone\": \"+1-234-456-789\",\n",
    "    \"email\": \"professionalemail@resumeworded.com\",\n",
    "    \"linkedin\": \"linkedin.com/in/username\",\n",
    "    \"location\": \"Bay Area, California\"\n",
    "  },\n",
    "  \"professional_summary\": \"Software engineering lead with ten years' experience implementing backend systems in C++; led re-architecture of key platform that serves 100,000 requests per month, increasing speed by 20 percent; awarded the prestigious 'Most Impactful' award, given to the top 5 percent of engineers based on total impact to firm; promoted two times in 18 months, six months ahead of schedule.\",\n",
    "  \"work_experience\": \"Job Titles: Software Engineering Manager, Data Science Manager, Business Analyst, Business Development Consultant. Responsibilities and Achievements: Launched Miami office with lead Director and recruited a new team of 10 employees; grew office revenue by 200% in first nine months (representing 20% of company revenue). Led the first major effort to A/B test the company's e-commerce sales page and optimize it for customer acquisition; resulted in a 7.5% increase in conversions. Built Tableau dashboard using data from Amplitude and Segment to visualize core business KPIs (e.g. Monthly Recurring Revenue), saving 10 hours per week of manual reporting work. Reduced signup drop-offs from 65% to 15% and increased user engagement by 40%, through a combination of hypothesis testing, segmentation analysis and machine learning algorithms. First hire on the analytics team of RW Ventures funded startup ($10mm Series A). Developed product strategies for lead Director and trained the team as it grew to 25 employees. Led redesign of mobile app and website. Spearheaded a major pricing restructure by redirecting focus on consumer willingness to pay instead of product cost; implemented a three-tiered pricing model which increased average sale 35% and margin 12%. Designed training and peer-mentoring programs for the incoming class of 25 analysts in 2017; reduced onboarding time for new hires by 50%. Liaised with C-level executives of My Exciting Company, a RW Ventures-backed ecommerce marketplace website with 100k members which helps designers sell their artwork and designs to businesses. Strengthened relationships with 6 strategic partners (including Expedia, Skyscanner and Airbnb) through follow-up meetings with C-suite executives. Developed and executed customer referral program, leading to 50% increase in referral business and $2MM of incremental revenue.\",\n",
    "  \"education\": \"Degree: Bachelor of Engineering — Computer Science.\",\n",
    "  \"skills\": \"Data Visualization/Engineering: Tableau (Advanced), Looker (Experienced), Segment, Amplitude. Techniques: Hypothesis Testing, Recommendation Engines, Customer Segmentation Analysis (Advanced). Tools and Frameworks: ElasticSearch, Python (Keras, Scikit-learn), Hadoop, Python, Databases (MySQL).\"\n",
    "}'''\n",
    "\n",
    "# Decode the escaped characters\n",
    "raw_text = raw_text.encode().decode('unicode_escape')\n",
    "\n",
    "# Load as JSON\n",
    "data = json.loads(raw_text)\n",
    "\n",
    "print ( data ) "
   ]
  },
  {
   "cell_type": "code",
   "execution_count": 31,
   "id": "1ed032cb-8f01-4330-be80-e066e90376af",
   "metadata": {},
   "outputs": [
    {
     "name": "stdout",
     "output_type": "stream",
     "text": [
      "<bound method Response.json of <Response [200]>>\n"
     ]
    }
   ],
   "source": [
    "import requests\n",
    "\n",
    "\n",
    "response = requests.get(f'http://127.0.0.1:5000/add_resume?argument={raw_text}')\n",
    "data = response.json()\n",
    "print(response.json)"
   ]
  },
  {
   "cell_type": "code",
   "execution_count": 32,
   "id": "6ba95b5f-f483-4094-9d58-3f16f38f978e",
   "metadata": {},
   "outputs": [
    {
     "data": {
      "text/plain": [
       "{'email': 'professionalemail@resumeworded.com',\n",
       " 'linkedin': 'linkedin.com/in/username',\n",
       " 'location': 'Bay Area, California',\n",
       " 'name': 'First Last',\n",
       " 'phone': ' 1-234-456-789'}"
      ]
     },
     "execution_count": 32,
     "metadata": {},
     "output_type": "execute_result"
    }
   ],
   "source": [
    "data[\"contact_information\"]"
   ]
  },
  {
   "cell_type": "code",
   "execution_count": 2,
   "id": "6505dc42-9705-4ae4-a03f-d57eedd438ad",
   "metadata": {},
   "outputs": [],
   "source": [
    "from textblob import TextBlob"
   ]
  },
  {
   "cell_type": "code",
   "execution_count": 3,
   "id": "e9507d30-dcfc-41ed-80a1-4226c5ed00e2",
   "metadata": {},
   "outputs": [],
   "source": [
    "text = \"I am happy today.\"\n",
    "blob = TextBlob(text)\n"
   ]
  },
  {
   "cell_type": "code",
   "execution_count": 4,
   "id": "2bab8ef4-c1c5-4a8d-97fc-ba60523c0a8b",
   "metadata": {},
   "outputs": [],
   "source": [
    "sentiment = blob.sentiment"
   ]
  },
  {
   "cell_type": "code",
   "execution_count": 5,
   "id": "c85e16b1-fe52-44c6-8414-52bd8e4a13b1",
   "metadata": {},
   "outputs": [
    {
     "name": "stdout",
     "output_type": "stream",
     "text": [
      "text : I am happy today.\n",
      "Polarity 0.8\n",
      "subjectivity : 1.0\n"
     ]
    }
   ],
   "source": [
    "print ( f\"text : {text}\")\n",
    "print(f\"Polarity {sentiment.polarity}\")\n",
    "print (f\"subjectivity : {sentiment.subjectivity}\")"
   ]
  },
  {
   "cell_type": "code",
   "execution_count": 7,
   "id": "973003cc-cc3a-4e3b-a930-dfdfceb01bed",
   "metadata": {},
   "outputs": [
    {
     "name": "stdout",
     "output_type": "stream",
     "text": [
      "sentiment is positive\n"
     ]
    }
   ],
   "source": [
    "check = sentiment.polarity\n",
    "if check > 0:\n",
    "    print(\"sentiment is positive\")\n",
    "elif check < 0:\n",
    "    print(\"sentiment is negative\")\n",
    "else:\n",
    "    print (\"Neutral\")"
   ]
  },
  {
   "cell_type": "code",
   "execution_count": null,
   "id": "c3cda18b-dbef-43af-ba89-ddeca074184f",
   "metadata": {},
   "outputs": [],
   "source": []
  }
 ],
 "metadata": {
  "kernelspec": {
   "display_name": "FULLSTACK",
   "language": "python",
   "name": "myenv"
  },
  "language_info": {
   "codemirror_mode": {
    "name": "ipython",
    "version": 3
   },
   "file_extension": ".py",
   "mimetype": "text/x-python",
   "name": "python",
   "nbconvert_exporter": "python",
   "pygments_lexer": "ipython3",
   "version": "3.10.0"
  }
 },
 "nbformat": 4,
 "nbformat_minor": 5
}
